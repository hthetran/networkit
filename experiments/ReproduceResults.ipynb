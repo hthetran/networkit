{
 "cells": [
  {
   "cell_type": "code",
   "execution_count": 10,
   "metadata": {},
   "outputs": [
    {
     "name": "stdout",
     "output_type": "stream",
     "text": [
      "NetworKit.Graph(name=power, n=4941, m=13188)\n"
     ]
    }
   ],
   "source": [
    "from networkit import *\n",
    "import copy\n",
    "\n",
    "# Get the graphs\n",
    "gPower = graphio.readGraph(\"power.gml\", Format.GML, directed=True)\n",
    "for u, v in gPower.edges():\n",
    "    gPower.addEdge(v, u)\n",
    "    \n",
    "# Generate 1000 Samples\n",
    "gPower_samples = [copy.deepcopy(gPower) for i in range(1000)]\n",
    "\n",
    "# Randomize for 1*m swaps\n",
    "gPower_1m = []\n",
    "swapGen = curveball.UniformTradeGenerator(gPower.numberOfEdges(), gPower.numberOfEdges())\n",
    "for i in range(1000):\n",
    "    esmc = curveball.EdgeSwitchingMarkovChainRandomization(gPower)\n",
    "    # Abuse UniformTradeGenerator\n",
    "    esmc.run(swapGen.generate())\n",
    "    gPower_1m.append[esmc.getGraph()]\n",
    "    \n",
    "# Randomize for another 4*m swaps (5*m now)\n",
    "gPower_5m = []\n",
    "swapGen.setLength(4*gPower.numberOfEdges())\n",
    "for g in range gPower_1m:\n",
    "    esmc = curveball.EdgeSwitchingMarkovChainRandomization(g)\n",
    "    # Abuse UniformTradeGenerator\n",
    "    esmc.run(swapGen.generate())\n",
    "    gPower_5m.append[esmc.getGraph()]\n",
    "    \n",
    "# Randomize for another 5*m swaps (10*m now)\n",
    "gPower_10m = []\n",
    "swapGen.setLength(10*gPower.numberOfEdges())\n",
    "for g in range gPower_5m:\n",
    "    esmc = curveball.EdgeSwitchingMarkovChainRandomization(g)\n",
    "    # Abuse UniformTradeGenerator\n",
    "    esmc.run(swapGen.generate())\n",
    "    gPower_10m.append[esmc.getGraph()]\n",
    "    \n",
    "# Randomize for another 5*m swaps (15*m now)\n",
    "gPower_15m = []\n",
    "swapGen.setLength(15*gPower.numberOfEdges())\n",
    "for g in range gPower_10m:\n",
    "    esmc = curveball.EdgeSwitchingMarkovChainRandomization(g)\n",
    "    # Abuse UniformTradeGenerator\n",
    "    esmc.run(swapGen.generate())\n",
    "    gPower_15m.append[esmc.getGraph()]\n",
    "\n",
    "    \n"
   ]
  },
  {
   "cell_type": "code",
   "execution_count": null,
   "metadata": {
    "collapsed": true
   },
   "outputs": [],
   "source": []
  }
 ],
 "metadata": {
  "kernelspec": {
   "display_name": "Python 3",
   "language": "python",
   "name": "python3"
  },
  "language_info": {
   "codemirror_mode": {
    "name": "ipython",
    "version": 3
   },
   "file_extension": ".py",
   "mimetype": "text/x-python",
   "name": "python",
   "nbconvert_exporter": "python",
   "pygments_lexer": "ipython3",
   "version": "3.5.2"
  }
 },
 "nbformat": 4,
 "nbformat_minor": 2
}
