{
 "cells": [
  {
   "cell_type": "code",
   "execution_count": 4,
   "metadata": {},
   "outputs": [
    {
     "name": "stdout",
     "output_type": "stream",
     "text": [
      "/home/hungt/curveball/curveball-im/networkit/graphio.py\n",
      "Finished randomizing the samples...\n"
     ]
    },
    {
     "data": {
      "image/png": "[encoded data removed]",
      "text/plain": [
       "<matplotlib.figure.Figure at 0x7f500e2d94a8>"
      ]
     },
     "metadata": {},
     "output_type": "display_data"
    },
    {
     "name": "stdout",
     "output_type": "stream",
     "text": [
      "Done.\n"
     ]
    }
   ],
   "source": [
    "from networkit import *\n",
    "import copy\n",
    "import math\n",
    "import numpy as np\n",
    "import matplotlib.pyplot as plt\n",
    "import pylab as p\n",
    "\n",
    "print(graphio.__file__)\n",
    "\n",
    "# Get the graphs\n",
    "gPower = graphio.readGraph(\"power.gml\", Format.GML, directed=True)\n",
    "for u, v in gPower.edges():\n",
    "    gPower.addEdge(v, u)\n",
    "    \n",
    "sample_size = 1000\n",
    "    \n",
    "# Generate 1000 Samples\n",
    "gPower_samples = [copy.deepcopy(gPower) for i in range(sample_size)]\n",
    "\n",
    "# Randomize for 0.5*m swaps\n",
    "gPower_1 = []\n",
    "swapGen = curveball.UniformTradeGenerator(math.ceil(0.5 * gPower.numberOfEdges()), gPower.numberOfEdges())\n",
    "for i in range(sample_size):\n",
    "    esmc = curveball.EdgeSwitchingMarkovChainRandomization(gPower)\n",
    "    esmc.run(swapGen.generate())\n",
    "    gPower_1.append(esmc.getGraph())\n",
    "    \n",
    "# Randomize for another 2*m swaps (2.5*m now)\n",
    "gPower_2 = []\n",
    "swapGen = curveball.UniformTradeGenerator(2 * gPower.numberOfEdges(), gPower.numberOfEdges())\n",
    "for g in gPower_1:\n",
    "    esmc = curveball.EdgeSwitchingMarkovChainRandomization(g)\n",
    "    esmc.run(swapGen.generate())\n",
    "    gPower_2.append(esmc.getGraph())\n",
    "    \n",
    "# Randomize for another 2.5*m swaps (5*m now)\n",
    "gPower_3 = []\n",
    "swapGen = curveball.UniformTradeGenerator(math.ceil(2.5 * gPower.numberOfEdges()), gPower.numberOfEdges())\n",
    "for g in gPower_2:\n",
    "    esmc = curveball.EdgeSwitchingMarkovChainRandomization(g)\n",
    "    esmc.run(swapGen.generate())\n",
    "    gPower_3.append(esmc.getGraph())\n",
    "    \n",
    "# Randomize for another 2.5*m swaps (7.5*m now)\n",
    "gPower_4 = []\n",
    "swapGen = curveball.UniformTradeGenerator(math.ceil(2.5 * gPower.numberOfEdges()), gPower.numberOfEdges())\n",
    "for g in gPower_3:\n",
    "    esmc = curveball.EdgeSwitchingMarkovChainRandomization(g)\n",
    "    esmc.run(swapGen.generate())\n",
    "    gPower_4.append(esmc.getGraph())\n",
    "\n",
    "print(\"Finished randomizing the samples...\")\n",
    "\n",
    "def plot_line_histogram_gcc(graph_dataset, xmin, xmax, label):\n",
    "    fig, ax = plt.subplots()\n",
    "    ax.set_xlim([xmin,xmax])\n",
    "    plt.title(label)\n",
    "    plt.xlabel(\"Global clustering coefficient\")\n",
    "    plt.ylabel(\"Absolute frequency\")\n",
    "    for graph_data in graph_dataset:\n",
    "        data = np.array([np.average(centrality.scores(g, centrality.LocalClusteringCoefficient, True)) for g in graph_data])\n",
    "        y, binEdges = np.histogram(data, bins='fd')\n",
    "        bincenters = 0.5*(binEdges[1:]+binEdges[:-1])\n",
    "        ax.plot(bincenters, y, '-')\n",
    "\n",
    "def plot_line_histogram_diam(graph_dataset, xmin, xmax, label):\n",
    "    fig, ax = plt.subplots()\n",
    "    ax.set_xlim([xmin,xmax])\n",
    "    plt.title(label)\n",
    "    plt.xlabel(\"Diameter\")\n",
    "    plt.ylabel(\"Absolute frequency\")\n",
    "    for graph_data in graph_dataset:\n",
    "        data = np.array([distance.Diameter(g, distance.DiameterAlgo.Exact).run().getDiameter() for g in graph_data])\n",
    "        y, binEdges = np.histogram(data, bins='fd')\n",
    "        bincenters = 0.5*(binEdges[1:]+binEdges[:-1])\n",
    "        ax.plot(bincenters, y, '-')\n",
    "        \n",
    "plot_line_histogram_gcc([gPower_1, gPower_2, gPower_3, gPower_4], 0, 0.03, \"Power\")\n",
    "# plot_line_histogram_diam([gPower_1, gPower_2, gPower_3, gPower_4], 0, 20, \"Power\")\n",
    "plt.show()\n",
    "plt.close()\n",
    "print(\"Done.\")"
   ]
  },
  {
   "cell_type": "code",
   "execution_count": null,
   "metadata": {
    "collapsed": true
   },
   "outputs": [],
   "source": []
  }
 ],
 "metadata": {
  "kernelspec": {
   "display_name": "Python 3",
   "language": "python",
   "name": "python3"
  },
  "language_info": {
   "codemirror_mode": {
    "name": "ipython",
    "version": 3
   },
   "file_extension": ".py",
   "mimetype": "text/x-python",
   "name": "python",
   "nbconvert_exporter": "python",
   "pygments_lexer": "ipython3",
   "version": "3.5.2"
  }
 },
 "nbformat": 4,
 "nbformat_minor": 2
}
