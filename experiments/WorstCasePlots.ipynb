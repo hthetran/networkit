{
 "cells": [
  {
   "cell_type": "code",
   "execution_count": 64,
   "metadata": {
    "collapsed": false
   },
   "outputs": [
    {
     "data": {
      "image/png": "[encoded data removed]",
      "text/plain": [
       "<matplotlib.figure.Figure at 0x7f48b4d81da0>"
      ]
     },
     "metadata": {},
     "output_type": "display_data"
    },
    {
     "ename": "NameError",
     "evalue": "name 'valtype' is not defined",
     "output_type": "error",
     "traceback": [
      "\u001b[0;31m---------------------------------------------------------------------------\u001b[0m",
      "\u001b[0;31mNameError\u001b[0m                                 Traceback (most recent call last)",
      "\u001b[0;32m<ipython-input-64-132a7a5c42e4>\u001b[0m in \u001b[0;36m<module>\u001b[0;34m()\u001b[0m\n\u001b[1;32m     78\u001b[0m             \u001b[0;32mcontinue\u001b[0m\u001b[0;34m\u001b[0m\u001b[0m\n\u001b[1;32m     79\u001b[0m         \u001b[0mdata\u001b[0m \u001b[0;34m=\u001b[0m \u001b[0;34m[\u001b[0m\u001b[0msubdf\u001b[0m\u001b[0;34m.\u001b[0m\u001b[0mloc\u001b[0m\u001b[0;34m[\u001b[0m\u001b[0;34m(\u001b[0m\u001b[0msubdf\u001b[0m\u001b[0;34m[\u001b[0m\u001b[0;34m'Thin'\u001b[0m\u001b[0;34m]\u001b[0m \u001b[0;34m==\u001b[0m \u001b[0mthin\u001b[0m\u001b[0;34m)\u001b[0m \u001b[0;34m&\u001b[0m \u001b[0;34m(\u001b[0m\u001b[0mdf\u001b[0m\u001b[0;34m[\u001b[0m\u001b[0;34m'Type'\u001b[0m\u001b[0;34m]\u001b[0m \u001b[0;34m==\u001b[0m \u001b[0mmetric\u001b[0m\u001b[0;34m)\u001b[0m\u001b[0;34m]\u001b[0m\u001b[0;34m[\u001b[0m\u001b[0;34m'Val'\u001b[0m\u001b[0;34m]\u001b[0m \u001b[0;32mfor\u001b[0m \u001b[0mthin\u001b[0m \u001b[0;32min\u001b[0m \u001b[0mthins\u001b[0m\u001b[0;34m]\u001b[0m\u001b[0;34m\u001b[0m\u001b[0m\n\u001b[0;32m---> 80\u001b[0;31m         \u001b[0mplot_line_histogram\u001b[0m\u001b[0;34m(\u001b[0m\u001b[0mdata\u001b[0m\u001b[0;34m,\u001b[0m \u001b[0mtitle\u001b[0m\u001b[0;34m,\u001b[0m \u001b[0mvaltype\u001b[0m\u001b[0;34m,\u001b[0m \u001b[0mabv_dict\u001b[0m\u001b[0;34m[\u001b[0m\u001b[0mmetric\u001b[0m\u001b[0;34m]\u001b[0m\u001b[0;34m,\u001b[0m \u001b[0;34m'Density'\u001b[0m\u001b[0;34m)\u001b[0m\u001b[0;34m\u001b[0m\u001b[0m\n\u001b[0m\u001b[1;32m     81\u001b[0m         \u001b[0mplt\u001b[0m\u001b[0;34m.\u001b[0m\u001b[0mshow\u001b[0m\u001b[0;34m(\u001b[0m\u001b[0;34m)\u001b[0m\u001b[0;34m\u001b[0m\u001b[0m\n\u001b[1;32m     82\u001b[0m         \u001b[0mplt\u001b[0m\u001b[0;34m.\u001b[0m\u001b[0mclose\u001b[0m\u001b[0;34m(\u001b[0m\u001b[0;34m)\u001b[0m\u001b[0;34m\u001b[0m\u001b[0m\n",
      "\u001b[0;31mNameError\u001b[0m: name 'valtype' is not defined"
     ]
    }
   ],
   "source": [
    "import pandas as pd\n",
    "import matplotlib.pyplot as plt\n",
    "import numpy as np\n",
    "import itertools\n",
    "\n",
    "abv_dict = {\n",
    "    \"LCC\" : \"Local clustering coefficient\",\n",
    "    'DA'  : \"Degree assortativity\",\n",
    "    \"TRI\" : \"Triangle count\",\n",
    "    \"IND\" : \"Independence-Rate\",\n",
    "    \"DIAM\" : \"Diameter\",\n",
    "    \"NETWORKIT_ES\" : \"ESMC\",\n",
    "    \"CB_UNIFORM\" : \"CB_U\",\n",
    "    \"CB_GLOBAL\" : \"CB_G\"\n",
    "}\n",
    "rand_xlabel = {\n",
    "    \"NETWORKIT_ES\" : \" [m/10]\",\n",
    "    \"CB_UNIFORM\" : \" [m/(10*avgdeg)]\",\n",
    "    \"CB_GLOBAL\" : \"\"\n",
    "}\n",
    "\n",
    "def plot_line_histogram(graph_dataset, label, valtype, xlabel, ylabel):\n",
    "    plt.title(label)\n",
    "    plt.xlabel(xlabel)\n",
    "    plt.ylabel(ylabel)\n",
    "    for ix, graph_data in zip(range(len(graph_dataset)), graph_dataset):\n",
    "        data = np.array(graph_data)\n",
    "        y, binEdges = np.histogram(data, bins='fd')\n",
    "        bincenters = 0.5*(binEdges[1:]+binEdges[:-1])\n",
    "        plt.plot(bincenters, y, '-')\n",
    "\n",
    "\"\"\"\n",
    "    Dataline:\n",
    "    Label\n",
    "    RunL\n",
    "    Gen\n",
    "    Rand\n",
    "    PID\n",
    "    Thin\n",
    "    Mu\n",
    "    N\n",
    "    P1\n",
    "    P2\n",
    "    P3\n",
    "    Type\n",
    "    Val\n",
    "\"\"\"\n",
    "\n",
    "# TODO Minimum of independence rate\n",
    "df = pd.read_csv(\"SET.dat\", sep='\\t')\n",
    "df[['RunL', 'Thin', 'Mu', 'N', 'Val']] = df[['RunL', 'Thin', 'Mu', 'N', 'Val']].apply(pd.to_numeric)\n",
    "\n",
    "# Assumes PLDHH\n",
    "thins = sorted(list(set(df['Thin'].astype('category').values)))\n",
    "mus = sorted(list(set(df['Mu'].astype('category').values)))\n",
    "metrics = list(set(df['Type'].astype('category').values))\n",
    "ns = sorted(list(set(df['N'].astype('category').values)))\n",
    "rands = list(set(df['Rand'].astype('category').values))\n",
    "p1s = sorted(list(set(df['P1'].astype('category').values)))\n",
    "p2s = sorted(list(set(df['P2'].astype('category').values)))\n",
    "p3s = sorted(list(set(df['P3'].astype('category').values)))\n",
    "\n",
    "for mu, n, rand, p1, p2, p3 in itertools.product(mus, ns, rands, p1s, p2s, p3s):\n",
    "    title = \"Single Source Powerlaw graph: mu = {}, n = {}, a = {}, b = {}, rand = {}\".format(mu, n, p2, p3, abv_dict[rand])\n",
    "    subdf = df.loc[(df['Mu'] == mu) & (df['N'] == n) & (df['Rand'] == rand) & (df['P1'] == p1) & (df['P2'] == p2) & (df['P3'] == p3)]\n",
    "    if \"IND\" in metrics:\n",
    "        subdf.loc[subdf['Type'] == 'IND'].plot(kind='scatter', x='Thin', y='Val')\n",
    "        plt.title(str(title))\n",
    "        plt.xlabel('Thinning{}'.format(rand_xlabel[rand]))\n",
    "        plt.ylabel('Independence-Rate')\n",
    "        plt.show()\n",
    "        plt.close()\n",
    "\n",
    "    for metric in metrics:\n",
    "        if metric == 'IND':\n",
    "            continue\n",
    "        if metric == 'DIAM': #TODO\n",
    "            continue\n",
    "        data = [subdf.loc[(subdf['Thin'] == thin) & (df['Type'] == metric)]['Val'] for thin in thins]\n",
    "        plot_line_histogram(data, title, valtype, abv_dict[metric], 'Density')\n",
    "        plt.show()\n",
    "        plt.close()"
   ]
  },
  {
   "cell_type": "code",
   "execution_count": null,
   "metadata": {
    "collapsed": true
   },
   "outputs": [],
   "source": []
  }
 ],
 "metadata": {
  "kernelspec": {
   "display_name": "Python 3",
   "language": "python",
   "name": "python3"
  },
  "language_info": {
   "codemirror_mode": {
    "name": "ipython",
    "version": 3
   },
   "file_extension": ".py",
   "mimetype": "text/x-python",
   "name": "python",
   "nbconvert_exporter": "python",
   "pygments_lexer": "ipython3",
   "version": "3.5.3"
  }
 },
 "nbformat": 4,
 "nbformat_minor": 2
}
