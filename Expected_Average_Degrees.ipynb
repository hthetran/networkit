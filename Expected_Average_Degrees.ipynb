{
 "cells": [
  {
   "cell_type": "code",
   "execution_count": 6,
   "metadata": {},
   "outputs": [
    {
     "name": "stdout",
     "output_type": "stream",
     "text": [
      "AvgDeg 264.0819550366428 M 26408195.50366428\n",
      "AvgDeg 264.0819550366428 M 264081955.0366428\n",
      "AvgDeg 264.0819550366428 M 2640819550.366428\n",
      "AvgDeg 264.0819550366428 M 26408195503.66428\n",
      "AvgDeg 59.69094152507542 M 5969094.152507542\n",
      "AvgDeg 81.48677387057376 M 81486773.87057376\n",
      "AvgDeg 103.36785486891573 M 1033678548.6891572\n",
      "AvgDeg 125.26081609770013 M 12526081609.770014\n"
     ]
    }
   ],
   "source": [
    "from networkit import *\n",
    "\n",
    "for n in [10**k for k in range(5, 9)]:\n",
    "    plds = generators.PowerlawDegreeSequence(50, 10000, -2)\n",
    "    plds.run()\n",
    "    avgdeg = plds.getExpectedAverageDegree()\n",
    "    print(\"AvgDeg\", avgdeg, \"M\", n*avgdeg)\n",
    "\n",
    "for n in [10**k for k in range(5, 9)]:\n",
    "    plds = generators.PowerlawDegreeSequence(10, n/20, -2)\n",
    "    plds.run()\n",
    "    avgdeg = plds.getExpectedAverageDegree()\n",
    "    print(\"AvgDeg\", avgdeg, \"M\", n*avgdeg)"
   ]
  },
  {
   "cell_type": "code",
   "execution_count": null,
   "metadata": {
    "collapsed": true
   },
   "outputs": [],
   "source": []
  }
 ],
 "metadata": {
  "kernelspec": {
   "display_name": "Python 3",
   "language": "python",
   "name": "python3"
  },
  "language_info": {
   "codemirror_mode": {
    "name": "ipython",
    "version": 3
   },
   "file_extension": ".py",
   "mimetype": "text/x-python",
   "name": "python",
   "nbconvert_exporter": "python",
   "pygments_lexer": "ipython3",
   "version": "3.5.3"
  }
 },
 "nbformat": 4,
 "nbformat_minor": 2
}
